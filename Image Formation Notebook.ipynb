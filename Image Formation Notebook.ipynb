{
 "cells": [
  {
   "cell_type": "markdown",
   "metadata": {},
   "source": [
    "# Pinhole Camera Model Practice Questions"
   ]
  },
  {
   "cell_type": "markdown",
   "metadata": {},
   "source": [
    "## Question 1: Perspective Projection"
   ]
  },
  {
   "cell_type": "markdown",
   "metadata": {},
   "source": [
    "A 3D point in the camera coordinate system is given by `p_c = [10, 5, 20]`. \n",
    "The camera has a focal length `f` of 50mm. \n",
    "Calculate the position of the projection of this point on the image plane in meters."
   ]
  },
  {
   "cell_type": "code",
   "execution_count": 18,
   "metadata": {},
   "outputs": [
    {
     "data": {
      "text/plain": [
       "[25.0, 12.5]"
      ]
     },
     "execution_count": 18,
     "metadata": {},
     "output_type": "execute_result"
    }
   ],
   "source": [
    "import numpy as np\n",
    "def get_2d_point(p_c: list, f : float) -> list:\n",
    "    u_c = (f * p_c[0])/p_c[2]\n",
    "    v_c = (f * p_c[1])/p_c[2]\n",
    "    return [u_c, v_c]\n",
    "f = 50/1000\n",
    "point2d = get_2d_point([10,5,20], 50)\n",
    "point2d"
   ]
  },
  {
   "cell_type": "markdown",
   "metadata": {},
   "source": [
    "---"
   ]
  },
  {
   "cell_type": "markdown",
   "metadata": {},
   "source": [
    "## Question 2: Conversion to Pixels"
   ]
  },
  {
   "cell_type": "markdown",
   "metadata": {},
   "source": [
    "Given the projected point from Question 1, convert its coordinates from meters to pixels. \n",
    "Assume the following intrinsic parameters: \n",
    "- `s_x` = 800 pixels/meter\n",
    "- `s_y` = 800 pixels/meter\n",
    "- `o_x` = 320 pixels\n",
    "- `o_y` = 240 pixels\n",
    "What are the pixel coordinates `(u^I, v^I)`?"
   ]
  },
  {
   "cell_type": "code",
   "execution_count": 2,
   "metadata": {},
   "outputs": [
    {
     "data": {
      "text/plain": [
       "[340.0, 250.0]"
      ]
     },
     "execution_count": 2,
     "metadata": {},
     "output_type": "execute_result"
    }
   ],
   "source": [
    "def convert_to_pixels(point2d: list, s_x, s_y, o_x, o_y) -> list:\n",
    "    u_i = point2d[0]*s_x + o_x\n",
    "    v_i = point2d[1]*s_y + o_y\n",
    "    return [u_i,v_i]\n",
    "    \n",
    "s_x = 800\n",
    "s_y = 800\n",
    "o_x = 320\n",
    "o_y = 240\n",
    "pip2d = convert_to_pixels(point2d, s_x,s_y,o_x,o_y)\n",
    "pip2d"
   ]
  },
  {
   "cell_type": "markdown",
   "metadata": {},
   "source": [
    "---"
   ]
  },
  {
   "cell_type": "markdown",
   "metadata": {},
   "source": [
    "## Question 3: Intrinsic Matrix"
   ]
  },
  {
   "cell_type": "markdown",
   "metadata": {},
   "source": [
    "Construct the intrinsic calibration matrix `K` using the parameters from Question 2, assuming no skew (`s_θ = 0`)."
   ]
  },
  {
   "cell_type": "code",
   "execution_count": 3,
   "metadata": {},
   "outputs": [
    {
     "data": {
      "text/plain": [
       "[[40.0, 0, 320], [0, 40.0, 240], [0, 0, 1]]"
      ]
     },
     "execution_count": 3,
     "metadata": {},
     "output_type": "execute_result"
    }
   ],
   "source": [
    "def get_intrinsic_matrix(f, s_x, s_y ,s_theta, o_x,o_y) -> list:\n",
    "    return [\n",
    "        [s_x*f,s_theta,o_x],\n",
    "        [0, s_y*f, o_y],\n",
    "        [0 , 0 , 1]]\n",
    "\n",
    "k = get_intrinsic_matrix(f, s_x, s_y, 0, o_x, o_y)\n",
    "k"
   ]
  },
  {
   "cell_type": "code",
   "execution_count": 3,
   "metadata": {},
   "outputs": [
    {
     "data": {
      "text/plain": [
       "[[40.0, 0, 320], [0, 40.0, 240], [0, 0, 1]]"
      ]
     },
     "execution_count": 3,
     "metadata": {},
     "output_type": "execute_result"
    }
   ],
   "source": [
    "def get_intrinsic_matrix(f, s_x, s_y ,s_theta, o_x,o_y) -> list:\n",
    "    return [\n",
    "        [s_x*f,s_theta,o_x],\n",
    "        [0, s_y*f, o_y],\n",
    "        [0 , 0 , 1]]\n",
    "\n",
    "k = get_intrinsic_matrix(f, s_x, s_y, 0, o_x, o_y)\n",
    "k"
   ]
  },
  {
   "cell_type": "code",
   "execution_count": 3,
   "metadata": {
    "scrolled": true
   },
   "outputs": [
    {
     "data": {
      "text/plain": [
       "[[40.0, 0, 320], [0, 40.0, 240], [0, 0, 1]]"
      ]
     },
     "execution_count": 3,
     "metadata": {},
     "output_type": "execute_result"
    }
   ],
   "source": [
    "def get_intrinsic_matrix(f, s_x, s_y ,s_theta, o_x,o_y) -> list:\n",
    "    return [\n",
    "        [s_x*f,s_theta,o_x],\n",
    "        [0, s_y*f, o_y],\n",
    "        [0 , 0 , 1]]\n",
    "\n",
    "k = get_intrinsic_matrix(f, s_x, s_y, 0, o_x, o_y)\n",
    "k"
   ]
  },
  {
   "cell_type": "markdown",
   "metadata": {},
   "source": [
    "---"
   ]
  },
  {
   "cell_type": "markdown",
   "metadata": {},
   "source": [
    "## Question 4: Point Projection with Known Pose"
   ]
  },
  {
   "cell_type": "markdown",
   "metadata": {},
   "source": [
    "A point in the world frame is given by `p_w = [2, 3, 50]`. The camera's pose `T_w^c` is given by an identity rotation matrix and a translation vector `t_w^c = [0, 0, 10]`. [cite_start]Using the intrinsic matrix `K` from Question 3, calculate the pixel coordinates of the projected point. [cite: 14, 16, 17]"
   ]
  },
  {
   "cell_type": "code",
   "execution_count": 19,
   "metadata": {},
   "outputs": [
    {
     "name": "stdout",
     "output_type": "stream",
     "text": [
      "mat = [19280. 14520.    60.]\n"
     ]
    },
    {
     "data": {
      "text/plain": [
       "[np.float64(321.3333333333333), np.float64(242.0)]"
      ]
     },
     "execution_count": 19,
     "metadata": {},
     "output_type": "execute_result"
    }
   ],
   "source": [
    "def get_projection_matrix(i_mat, r_w, t_w):\n",
    "    r_w = np.array(r_w)\n",
    "    t_w = np.array(t_w).reshape(-1, 1) \n",
    "    \n",
    "    e_mat = np.hstack([r_w,t_w])\n",
    "    p_mat = np.matmul(i_mat,e_mat)\n",
    "    return p_mat\n",
    "\n",
    "def world_to_pixel(p_mat: list, coords: list):\n",
    "    if len(coords) == 3:\n",
    "        coords = coords + [1]\n",
    "    coords = np.array(coords)\n",
    "    \n",
    "    mat = np.matmul(p_mat, coords)\n",
    "    print(f\"mat = {mat}\") \n",
    "    pixel_x = mat[0] / mat[2]\n",
    "    pixel_y = mat[1] / mat[2]\n",
    "    return [pixel_x, pixel_y]\n",
    "\n",
    "world_point = [2, 3, 50]\n",
    "p_matrix = get_projection_matrix(k, [[1,0,0],[0,1,0],[0,0,1]], [0,0,10])\n",
    "pixel_coords = world_to_pixel(p_matrix, world_point)\n",
    "pixel_coords\n"
   ]
  },
  {
   "cell_type": "markdown",
   "metadata": {},
   "source": [
    "---"
   ]
  },
  {
   "cell_type": "markdown",
   "metadata": {},
   "source": [
    "## Question 5: Radial Distortion"
   ]
  },
  {
   "cell_type": "markdown",
   "metadata": {},
   "source": [
    "A point is projected on the image plane at `(u_distort^I, v_distort^I) = (400, 350)` including radial distortion. Given distortion coefficients `a1 = 0.0001` and `a2 = 0.0000002` and the principal point `(o_x, o_y) = (320, 240)`, calculate the corrected pixel coordinates `(u^I, v^I)`."
   ]
  },
  {
   "cell_type": "code",
   "execution_count": 30,
   "metadata": {},
   "outputs": [
    {
     "data": {
      "text/plain": [
       "(6024.0, 8083.0)"
      ]
     },
     "execution_count": 30,
     "metadata": {},
     "output_type": "execute_result"
    }
   ],
   "source": [
    "u_distort_I = 400\n",
    "v_distort_I = 350\n",
    "a1 = 0.0001\n",
    "a2 = 0.0000002\n",
    "\n",
    "r_2 = ((u_distort_I - o_x)**2 + (v_distort_I - o_y)**2)\n",
    "\n",
    "scale = 1 + a1*r_2 + a2*(r_2**2)\n",
    "\n",
    "u_c = scale * (u_distort_I - o_x) + o_x\n",
    "v_c = scale * (v_distort_I - o_y) + o_y\n",
    "\n",
    "(u_c,v_c)"
   ]
  },
  {
   "cell_type": "code",
   "execution_count": null,
   "metadata": {},
   "outputs": [],
   "source": []
  }
 ],
 "metadata": {
  "kernelspec": {
   "display_name": "Python 3 (ipykernel)",
   "language": "python",
   "name": "python3"
  },
  "language_info": {
   "codemirror_mode": {
    "name": "ipython",
    "version": 3
   },
   "file_extension": ".py",
   "mimetype": "text/x-python",
   "name": "python",
   "nbconvert_exporter": "python",
   "pygments_lexer": "ipython3",
   "version": "3.13.5"
  }
 },
 "nbformat": 4,
 "nbformat_minor": 4
}
